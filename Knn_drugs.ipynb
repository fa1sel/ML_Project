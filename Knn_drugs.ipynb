{
 "cells": [
  {
   "cell_type": "code",
   "execution_count": 19,
   "metadata": {},
   "outputs": [],
   "source": [
    "import pandas as pd\n",
    "from sklearn.model_selection import train_test_split\n",
    "from sklearn.preprocessing import LabelEncoder, StandardScaler\n",
    "from sklearn.neighbors import KNeighborsClassifier\n",
    "from sklearn.ensemble import RandomForestClassifier\n",
    "from sklearn.metrics import classification_report, accuracy_score\n"
   ]
  },
  {
   "cell_type": "code",
   "execution_count": 20,
   "metadata": {},
   "outputs": [
    {
     "name": "stdout",
     "output_type": "stream",
     "text": [
      "   Age Sex      BP Cholesterol  Na_to_K   Drug\n",
      "0   23   F    HIGH        HIGH   25.355  DrugY\n",
      "1   47   M     LOW        HIGH   13.093  drugC\n",
      "2   47   M     LOW        HIGH   10.114  drugC\n",
      "3   28   F  NORMAL        HIGH    7.798  drugX\n",
      "4   61   F     LOW        HIGH   18.043  DrugY\n"
     ]
    }
   ],
   "source": [
    "# Load dataset from csc file\n",
    "\n",
    "data = pd.read_csv('C:/Users/PMLS/Desktop/ai/ML lab/archive (1)/drug200.csv')\n",
    "\n",
    "\n",
    "print(data.head())\n"
   ]
  },
  {
   "cell_type": "code",
   "execution_count": 21,
   "metadata": {},
   "outputs": [
    {
     "name": "stdout",
     "output_type": "stream",
     "text": [
      "   Age  Sex  BP  Cholesterol  Na_to_K  Drug\n",
      "0   23    0   0            0   25.355     0\n",
      "1   47    1   1            0   13.093     3\n",
      "2   47    1   1            0   10.114     3\n",
      "3   28    0   2            0    7.798     4\n",
      "4   61    0   1            0   18.043     0\n"
     ]
    }
   ],
   "source": [
    "# Encoding categorical features\n",
    "label_encoders = {}\n",
    "categorical_columns = ['Sex', 'BP', 'Cholesterol', 'Drug']\n",
    "\n",
    "for col in categorical_columns:\n",
    "    le = LabelEncoder()\n",
    "    data[col] = le.fit_transform(data[col])\n",
    "    label_encoders[col] = le\n",
    "\n",
    "\n",
    "print(data.head())\n",
    "\n"
   ]
  },
  {
   "cell_type": "code",
   "execution_count": 22,
   "metadata": {},
   "outputs": [],
   "source": [
    "# Separating features and labels\n",
    "X = data[['Age', 'Sex', 'BP', 'Cholesterol', 'Na_to_K']].values\n",
    "y = data['Drug'].values\n"
   ]
  },
  {
   "cell_type": "code",
   "execution_count": 23,
   "metadata": {},
   "outputs": [
    {
     "name": "stdout",
     "output_type": "stream",
     "text": [
      "Drug\n",
      "0    91\n",
      "4    54\n",
      "1    23\n",
      "3    16\n",
      "2    16\n",
      "Name: count, dtype: int64\n"
     ]
    }
   ],
   "source": [
    "X_train, X_test, y_train, y_test = train_test_split(X, y, test_size=0.2, random_state=42)\n",
    " \n",
    " # Class distribution in the dataset\n",
    "class_distribution = data['Drug'].value_counts()\n",
    "print(class_distribution)\n"
   ]
  },
  {
   "cell_type": "code",
   "execution_count": 24,
   "metadata": {},
   "outputs": [
    {
     "name": "stdout",
     "output_type": "stream",
     "text": [
      "Best k: 7\n",
      "Best Cross-Validation Accuracy: 0.72\n",
      "\n",
      "Classification Report:\n",
      "              precision    recall  f1-score   support\n",
      "\n",
      "           0       0.93      0.93      0.93        15\n",
      "           1       0.60      0.50      0.55         6\n",
      "           2       0.20      0.33      0.25         3\n",
      "           3       1.00      0.20      0.33         5\n",
      "           4       0.50      0.64      0.56        11\n",
      "\n",
      "    accuracy                           0.65        40\n",
      "   macro avg       0.65      0.52      0.52        40\n",
      "weighted avg       0.72      0.65      0.65        40\n",
      "\n"
     ]
    },
    {
     "data": {
      "text/plain": [
       "'\\n# Predict on the test dataset\\ny_pred = knn.predict(X_test)\\n\\n# Evaluate the model\\nprint(\"Accuracy for unbalanced :\", accuracy_score(y_test, y_pred))\\nprint(\"\\nClassification Report for unbalaced:\\n\", classification_report(y_test, y_pred, target_names=label_encoders[\\'Drug\\'].classes_))\\n'"
      ]
     },
     "execution_count": 24,
     "metadata": {},
     "output_type": "execute_result"
    }
   ],
   "source": [
    "# Initialize and train KNN\n",
    "'''knn = KNeighborsClassifier(n_neighbors=7)  # Use 5 neighbors\n",
    "knn.fit(X_train, y_train)'''\n",
    "\n",
    "from sklearn.model_selection import GridSearchCV\n",
    "knn = KNeighborsClassifier()\n",
    "param_grid = {'n_neighbors': range(1,10)}  # Testing k from 1 to 20\n",
    "grid_search = GridSearchCV(estimator=knn, param_grid=param_grid, cv=5, scoring='accuracy')\n",
    "\n",
    "grid_search.fit(X_train, y_train)\n",
    "\n",
    "best_k = grid_search.best_params_['n_neighbors']\n",
    "\n",
    "best_score = grid_search.best_score_\n",
    "\n",
    "print(f\"Best k: {best_k}\")\n",
    "print(f\"Best Cross-Validation Accuracy: {best_score:.2f}\")\n",
    "\n",
    "\n",
    "best_knn = grid_search.best_estimator_\n",
    "y_pred = best_knn.predict(X_test)\n",
    "print(\"\\nClassification Report:\")\n",
    "print(classification_report(y_test, y_pred))\n",
    "'''\n",
    "# Predict on the test dataset\n",
    "y_pred = knn.predict(X_test)\n",
    "\n",
    "# Evaluate the model\n",
    "print(\"Accuracy for unbalanced :\", accuracy_score(y_test, y_pred))\n",
    "print(\"\\nClassification Report for unbalaced:\\n\", classification_report(y_test, y_pred, target_names=label_encoders['Drug'].classes_))\n",
    "'''"
   ]
  },
  {
   "cell_type": "markdown",
   "metadata": {},
   "source": [
    "Result after feature scalling is"
   ]
  },
  {
   "cell_type": "code",
   "execution_count": 25,
   "metadata": {},
   "outputs": [],
   "source": [
    "# Scale the features\n",
    "scaler = StandardScaler()\n",
    "X_train = scaler.fit_transform(X_train)\n",
    "X_test = scaler.transform(X_test)\n"
   ]
  },
  {
   "cell_type": "markdown",
   "metadata": {},
   "source": [
    "knn after feature scaling"
   ]
  },
  {
   "cell_type": "code",
   "execution_count": 26,
   "metadata": {},
   "outputs": [
    {
     "name": "stdout",
     "output_type": "stream",
     "text": [
      "Best k: 1\n",
      "Best Cross-Validation Accuracy: 0.85\n",
      "\n",
      "Classification Report:\n",
      "              precision    recall  f1-score   support\n",
      "\n",
      "           0       0.94      1.00      0.97        15\n",
      "           1       1.00      0.83      0.91         6\n",
      "           2       0.75      1.00      0.86         3\n",
      "           3       1.00      1.00      1.00         5\n",
      "           4       1.00      0.91      0.95        11\n",
      "\n",
      "    accuracy                           0.95        40\n",
      "   macro avg       0.94      0.95      0.94        40\n",
      "weighted avg       0.96      0.95      0.95        40\n",
      "\n"
     ]
    }
   ],
   "source": [
    "from sklearn.model_selection import GridSearchCV\n",
    "knn = KNeighborsClassifier()\n",
    "param_grid = {'n_neighbors': range(1,10)}  # Testing k from 1 to 20\n",
    "grid_search = GridSearchCV(estimator=knn, param_grid=param_grid, cv=5, scoring='accuracy')\n",
    "\n",
    "grid_search.fit(X_train, y_train)\n",
    "\n",
    "best_k = grid_search.best_params_['n_neighbors']\n",
    "\n",
    "best_score = grid_search.best_score_\n",
    "\n",
    "print(f\"Best k: {best_k}\")\n",
    "print(f\"Best Cross-Validation Accuracy: {best_score:.2f}\")\n",
    "\n",
    "\n",
    "best_knn = grid_search.best_estimator_\n",
    "y_pred = best_knn.predict(X_test)\n",
    "print(\"\\nClassification Report:\")\n",
    "print(classification_report(y_test, y_pred))"
   ]
  },
  {
   "cell_type": "markdown",
   "metadata": {},
   "source": [
    "            NOW BALANCING THE DATA"
   ]
  },
  {
   "cell_type": "code",
   "execution_count": 27,
   "metadata": {},
   "outputs": [
    {
     "name": "stdout",
     "output_type": "stream",
     "text": [
      "Resampled Class Distribution: Counter({np.int64(0): 11, np.int64(1): 11, np.int64(2): 11, np.int64(3): 11, np.int64(4): 11})\n",
      "Accuracy (after undersampling): 60.0\n",
      "Classification Report (after undersampling):\n",
      "               precision    recall  f1-score   support\n",
      "\n",
      "           0       0.89      0.53      0.67        15\n",
      "           1       0.43      0.50      0.46         6\n",
      "           2       0.29      0.67      0.40         3\n",
      "           3       0.50      0.80      0.62         5\n",
      "           4       0.78      0.64      0.70        11\n",
      "\n",
      "    accuracy                           0.60        40\n",
      "   macro avg       0.58      0.63      0.57        40\n",
      "weighted avg       0.70      0.60      0.62        40\n",
      "\n"
     ]
    }
   ],
   "source": [
    "from collections import Counter\n",
    "\n",
    "from imblearn.under_sampling import RandomUnderSampler\n",
    "undersampler = RandomUnderSampler(random_state=42)\n",
    "X_train_under, y_train_under = undersampler.fit_resample(X_train, y_train)\n",
    "\n",
    "print(\"Resampled Class Distribution:\", Counter(y_train_under))\n",
    "\n",
    "clf_under = KNeighborsClassifier(n_neighbors=5) \n",
    "clf_under.fit(X_train_under, y_train_under)\n",
    "\n",
    "y_pred_under = clf_under.predict(X_test)\n",
    "\n",
    "\n",
    "\n",
    "\n",
    "\n",
    "\n",
    "print(\"Accuracy (after undersampling):\", (accuracy_score(y_test, y_pred_under))*100)\n",
    "#print(\"Confusion Matrix (after undersampling):\\n\", confusion_matrix(y_test, y_pred_under))\n",
    "print(\"Classification Report (after undersampling):\\n\", classification_report(y_test,y_pred_under))\n",
    "\n"
   ]
  }
 ],
 "metadata": {
  "kernelspec": {
   "display_name": "Python (ganenv)",
   "language": "python",
   "name": "ganenv"
  },
  "language_info": {
   "codemirror_mode": {
    "name": "ipython",
    "version": 3
   },
   "file_extension": ".py",
   "mimetype": "text/x-python",
   "name": "python",
   "nbconvert_exporter": "python",
   "pygments_lexer": "ipython3",
   "version": "3.12.3"
  }
 },
 "nbformat": 4,
 "nbformat_minor": 2
}
