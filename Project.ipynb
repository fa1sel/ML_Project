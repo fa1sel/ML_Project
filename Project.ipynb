{
 "cells": [
  {
   "cell_type": "code",
   "execution_count": 19,
   "metadata": {},
   "outputs": [],
   "source": [
    "from sklearn.datasets import load_iris\n",
    "from sklearn.model_selection import GridSearchCV, train_test_split\n",
    "from sklearn.ensemble import RandomForestClassifier\n",
    "from sklearn.neighbors import KNeighborsClassifier\n",
    "from sklearn.svm import SVC\n",
    "from sklearn.metrics import classification_report\n",
    "import pandas as pd\n",
    "from sklearn.preprocessing import LabelEncoder, StandardScaler\n"
   ]
  },
  {
   "cell_type": "code",
   "execution_count": 20,
   "metadata": {},
   "outputs": [
    {
     "name": "stdout",
     "output_type": "stream",
     "text": [
      "   Age Sex      BP Cholesterol  Na_to_K   Drug\n",
      "0   23   F    HIGH        HIGH   25.355  DrugY\n",
      "1   47   M     LOW        HIGH   13.093  drugC\n",
      "2   47   M     LOW        HIGH   10.114  drugC\n",
      "3   28   F  NORMAL        HIGH    7.798  drugX\n",
      "4   61   F     LOW        HIGH   18.043  DrugY\n"
     ]
    }
   ],
   "source": [
    "data = pd.read_csv('C:/Users/PMLS/Desktop/ai/ML lab/archive (1)/drug200.csv')\n",
    "\n",
    "\n",
    "print(data.head())\n"
   ]
  },
  {
   "cell_type": "code",
   "execution_count": 21,
   "metadata": {},
   "outputs": [
    {
     "name": "stdout",
     "output_type": "stream",
     "text": [
      "   Age  Sex  BP  Cholesterol  Na_to_K  Drug\n",
      "0   23    0   0            0   25.355     0\n",
      "1   47    1   1            0   13.093     3\n",
      "2   47    1   1            0   10.114     3\n",
      "3   28    0   2            0    7.798     4\n",
      "4   61    0   1            0   18.043     0\n"
     ]
    }
   ],
   "source": [
    "label_encoders = {}\n",
    "categorical_columns = ['Sex', 'BP', 'Cholesterol', 'Drug']\n",
    "\n",
    "for col in categorical_columns:\n",
    "    le = LabelEncoder()\n",
    "    data[col] = le.fit_transform(data[col])\n",
    "    label_encoders[col] = le\n",
    "\n",
    "\n",
    "print(data.head())\n"
   ]
  },
  {
   "cell_type": "code",
   "execution_count": 22,
   "metadata": {},
   "outputs": [],
   "source": [
    "X = data[['Age', 'Sex', 'BP', 'Cholesterol', 'Na_to_K']].values\n",
    "y = data['Drug'].values\n"
   ]
  },
  {
   "cell_type": "code",
   "execution_count": 23,
   "metadata": {},
   "outputs": [
    {
     "name": "stdout",
     "output_type": "stream",
     "text": [
      "Drug\n",
      "0    91\n",
      "4    54\n",
      "1    23\n",
      "3    16\n",
      "2    16\n",
      "Name: count, dtype: int64\n"
     ]
    }
   ],
   "source": [
    "X_train, X_test, y_train, y_test = train_test_split(X, y, test_size=0.2, random_state=42)\n",
    " \n",
    " # Class distribution in the dataset\n",
    "class_distribution = data['Drug'].value_counts()\n",
    "print(class_distribution)\n"
   ]
  },
  {
   "cell_type": "code",
   "execution_count": 24,
   "metadata": {},
   "outputs": [],
   "source": [
    "from sklearn.ensemble import RandomForestClassifier\n",
    "from sklearn.neighbors import KNeighborsClassifier\n",
    "from sklearn.svm import SVC\n",
    "\n",
    "# Defining hyperparameter grids for each model\n",
    "rf_param_grid = {\n",
    "    'n_estimators': [10, 50, 100],\n",
    "    'max_depth': [None, 10, 20]\n",
    "}\n",
    "\n",
    "knn_param_grid = {\n",
    "    'n_neighbors': [1,3, 5, 6],\n",
    "    'weights': ['uniform', 'distance']\n",
    "}\n",
    "\n",
    "svc_param_grid = {\n",
    "    'C': [0.1, 1,2,4,5, 10],\n",
    "    'kernel': ['linear', 'rbf']\n",
    "}\n"
   ]
  },
  {
   "cell_type": "code",
   "execution_count": 25,
   "metadata": {},
   "outputs": [
    {
     "name": "stdout",
     "output_type": "stream",
     "text": [
      "Fitting 5 folds for each of 9 candidates, totalling 45 fits\n",
      "Fitting 5 folds for each of 8 candidates, totalling 40 fits\n",
      "Fitting 5 folds for each of 12 candidates, totalling 60 fits\n"
     ]
    }
   ],
   "source": [
    "from sklearn.model_selection import GridSearchCV\n",
    "from sklearn.metrics import classification_report\n",
    "from sklearn.pipeline import Pipeline\n",
    "from sklearn.preprocessing import StandardScaler\n",
    "\n",
    "# List to store results\n",
    "results = {}\n",
    "\n",
    "# Random Forest\n",
    "rf = RandomForestClassifier()\n",
    "rf_grid_search = GridSearchCV(\n",
    "    estimator=rf,\n",
    "    param_grid=rf_param_grid,\n",
    "    scoring='accuracy',\n",
    "    cv=5,\n",
    "    n_jobs=-1,\n",
    "    verbose=2\n",
    ")\n",
    "rf_grid_search.fit(X_train, y_train)\n",
    "results['Random Forest'] = rf_grid_search\n",
    "\n",
    "# K-Nearest Neighbors\n",
    "knn = KNeighborsClassifier()\n",
    "knn_grid_search = GridSearchCV(\n",
    "    estimator=knn,\n",
    "    param_grid=knn_param_grid,\n",
    "    scoring='accuracy',\n",
    "    cv=5,\n",
    "    n_jobs=-1,\n",
    "    verbose=2\n",
    ")\n",
    "knn_grid_search.fit(X_train, y_train)\n",
    "results['KNN'] = knn_grid_search\n",
    "\n",
    "# Support Vector Machine\n",
    "svc = SVC()\n",
    "svc_grid_search = GridSearchCV(\n",
    "    estimator=svc,\n",
    "    param_grid=svc_param_grid,\n",
    "    scoring='accuracy',\n",
    "    cv=5,\n",
    "    n_jobs=-1,\n",
    "    verbose=2\n",
    ")\n",
    "svc_grid_search.fit(X_train, y_train)\n",
    "results['SVM'] = svc_grid_search\n"
   ]
  },
  {
   "cell_type": "code",
   "execution_count": 26,
   "metadata": {},
   "outputs": [
    {
     "name": "stdout",
     "output_type": "stream",
     "text": [
      "Results for Random Forest:\n",
      "Best Parameters: {'max_depth': None, 'n_estimators': 100}\n",
      "Best Cross-Validation Accuracy: 0.99375\n",
      "\n",
      "Classification Report:\n",
      "              precision    recall  f1-score   support\n",
      "\n",
      "           0       1.00      1.00      1.00        15\n",
      "           1       1.00      1.00      1.00         6\n",
      "           2       1.00      1.00      1.00         3\n",
      "           3       1.00      1.00      1.00         5\n",
      "           4       1.00      1.00      1.00        11\n",
      "\n",
      "    accuracy                           1.00        40\n",
      "   macro avg       1.00      1.00      1.00        40\n",
      "weighted avg       1.00      1.00      1.00        40\n",
      "\n",
      "--------------------------------------------------\n",
      "Results for KNN:\n",
      "Best Parameters: {'n_neighbors': 3, 'weights': 'uniform'}\n",
      "Best Cross-Validation Accuracy: 0.70625\n",
      "\n",
      "Classification Report:\n",
      "              precision    recall  f1-score   support\n",
      "\n",
      "           0       1.00      1.00      1.00        15\n",
      "           1       0.56      0.83      0.67         6\n",
      "           2       0.50      0.67      0.57         3\n",
      "           3       1.00      0.20      0.33         5\n",
      "           4       0.73      0.73      0.73        11\n",
      "\n",
      "    accuracy                           0.78        40\n",
      "   macro avg       0.76      0.69      0.66        40\n",
      "weighted avg       0.82      0.78      0.76        40\n",
      "\n",
      "--------------------------------------------------\n",
      "Results for SVM:\n",
      "Best Parameters: {'C': 1, 'kernel': 'linear'}\n",
      "Best Cross-Validation Accuracy: 0.9875\n",
      "\n",
      "Classification Report:\n",
      "              precision    recall  f1-score   support\n",
      "\n",
      "           0       1.00      1.00      1.00        15\n",
      "           1       1.00      1.00      1.00         6\n",
      "           2       1.00      1.00      1.00         3\n",
      "           3       1.00      1.00      1.00         5\n",
      "           4       1.00      1.00      1.00        11\n",
      "\n",
      "    accuracy                           1.00        40\n",
      "   macro avg       1.00      1.00      1.00        40\n",
      "weighted avg       1.00      1.00      1.00        40\n",
      "\n",
      "--------------------------------------------------\n"
     ]
    }
   ],
   "source": [
    "for model_name, grid_search in results.items():\n",
    "    print(f\"Results for {model_name}:\")\n",
    "    print(\"Best Parameters:\", grid_search.best_params_)\n",
    "    print(\"Best Cross-Validation Accuracy:\", grid_search.best_score_)\n",
    "    \n",
    "    # Evaluate on test set\n",
    "    best_model = grid_search.best_estimator_\n",
    "    y_pred = best_model.predict(X_test)\n",
    "    print(\"\\nClassification Report:\")\n",
    "    print(classification_report(y_test, y_pred))\n",
    "    print(\"-\" * 50)\n"
   ]
  },
  {
   "cell_type": "markdown",
   "metadata": {},
   "source": [
    "FEATURE SCALING "
   ]
  },
  {
   "cell_type": "code",
   "execution_count": 27,
   "metadata": {},
   "outputs": [],
   "source": [
    "# Scale the features\n",
    "scaler = StandardScaler()\n",
    "X_train = scaler.fit_transform(X_train)\n",
    "X_test = scaler.transform(X_test)\n"
   ]
  },
  {
   "cell_type": "markdown",
   "metadata": {},
   "source": [
    "RESULTS AFTER FEATURE SCALING"
   ]
  },
  {
   "cell_type": "code",
   "execution_count": 28,
   "metadata": {},
   "outputs": [
    {
     "name": "stdout",
     "output_type": "stream",
     "text": [
      "Fitting 5 folds for each of 9 candidates, totalling 45 fits\n",
      "Fitting 5 folds for each of 8 candidates, totalling 40 fits\n",
      "Fitting 5 folds for each of 12 candidates, totalling 60 fits\n"
     ]
    }
   ],
   "source": [
    "results_S = {}\n",
    "\n",
    "\n",
    "rf_grid_search.fit(X_train, y_train)\n",
    "results_S['Random Forest'] = rf_grid_search\n",
    "\n",
    "\n",
    "\n",
    "knn_grid_search.fit(X_train, y_train)\n",
    "results_S['KNN'] = knn_grid_search\n",
    "\n",
    "\n",
    "\n",
    "\n",
    "svc_grid_search.fit(X_train, y_train)\n",
    "results_S['SVM'] = svc_grid_search\n"
   ]
  },
  {
   "cell_type": "code",
   "execution_count": 29,
   "metadata": {},
   "outputs": [
    {
     "name": "stdout",
     "output_type": "stream",
     "text": [
      "Results for Random Forest:\n",
      "Best Parameters: {'max_depth': 10, 'n_estimators': 10}\n",
      "Best Cross-Validation Accuracy: 0.99375\n",
      "\n",
      "Classification Report:\n",
      "              precision    recall  f1-score   support\n",
      "\n",
      "           0       1.00      1.00      1.00        15\n",
      "           1       1.00      1.00      1.00         6\n",
      "           2       1.00      1.00      1.00         3\n",
      "           3       0.67      0.80      0.73         5\n",
      "           4       0.90      0.82      0.86        11\n",
      "\n",
      "    accuracy                           0.93        40\n",
      "   macro avg       0.91      0.92      0.92        40\n",
      "weighted avg       0.93      0.93      0.93        40\n",
      "\n",
      "--------------------------------------------------\n",
      "Results for KNN:\n",
      "Best Parameters: {'n_neighbors': 1, 'weights': 'uniform'}\n",
      "Best Cross-Validation Accuracy: 0.85\n",
      "\n",
      "Classification Report:\n",
      "              precision    recall  f1-score   support\n",
      "\n",
      "           0       0.94      1.00      0.97        15\n",
      "           1       1.00      0.83      0.91         6\n",
      "           2       0.75      1.00      0.86         3\n",
      "           3       1.00      1.00      1.00         5\n",
      "           4       1.00      0.91      0.95        11\n",
      "\n",
      "    accuracy                           0.95        40\n",
      "   macro avg       0.94      0.95      0.94        40\n",
      "weighted avg       0.96      0.95      0.95        40\n",
      "\n",
      "--------------------------------------------------\n",
      "Results for SVM:\n",
      "Best Parameters: {'C': 2, 'kernel': 'linear'}\n",
      "Best Cross-Validation Accuracy: 0.95625\n",
      "\n",
      "Classification Report:\n",
      "              precision    recall  f1-score   support\n",
      "\n",
      "           0       1.00      1.00      1.00        15\n",
      "           1       1.00      1.00      1.00         6\n",
      "           2       1.00      1.00      1.00         3\n",
      "           3       1.00      1.00      1.00         5\n",
      "           4       1.00      1.00      1.00        11\n",
      "\n",
      "    accuracy                           1.00        40\n",
      "   macro avg       1.00      1.00      1.00        40\n",
      "weighted avg       1.00      1.00      1.00        40\n",
      "\n",
      "--------------------------------------------------\n"
     ]
    }
   ],
   "source": [
    "for model_name, grid_search in results_S.items():\n",
    "    print(f\"Results for {model_name}:\")\n",
    "    print(\"Best Parameters:\", grid_search.best_params_)\n",
    "    print(\"Best Cross-Validation Accuracy:\", grid_search.best_score_)\n",
    "    \n",
    "    # Evaluate on test set\n",
    "    best_model = grid_search.best_estimator_\n",
    "    y_pred = best_model.predict(X_test)\n",
    "    print(\"\\nClassification Report:\")\n",
    "    print(classification_report(y_test, y_pred))\n",
    "    print(\"-\" * 50)\n"
   ]
  },
  {
   "cell_type": "markdown",
   "metadata": {},
   "source": [
    "BALANCING THE DATA"
   ]
  },
  {
   "cell_type": "code",
   "execution_count": 30,
   "metadata": {},
   "outputs": [
    {
     "name": "stdout",
     "output_type": "stream",
     "text": [
      "Resampled Class Distribution: Counter({np.int64(0): 11, np.int64(1): 11, np.int64(2): 11, np.int64(3): 11, np.int64(4): 11})\n"
     ]
    }
   ],
   "source": [
    "from collections import Counter\n",
    "\n",
    "from imblearn.under_sampling import RandomUnderSampler\n",
    "undersampler = RandomUnderSampler(random_state=42)\n",
    "X_train_under, y_train_under = undersampler.fit_resample(X_train, y_train)\n",
    "\n",
    "print(\"Resampled Class Distribution:\", Counter(y_train_under))"
   ]
  },
  {
   "cell_type": "code",
   "execution_count": 31,
   "metadata": {},
   "outputs": [
    {
     "name": "stdout",
     "output_type": "stream",
     "text": [
      "Fitting 5 folds for each of 9 candidates, totalling 45 fits\n",
      "Fitting 5 folds for each of 8 candidates, totalling 40 fits\n",
      "Fitting 5 folds for each of 12 candidates, totalling 60 fits\n"
     ]
    }
   ],
   "source": [
    "results_B = {}\n",
    "\n",
    "\n",
    "rf_grid_search.fit(X_train, y_train)\n",
    "results_S['Random Forest'] = rf_grid_search\n",
    "\n",
    "\n",
    "\n",
    "knn_grid_search.fit(X_train, y_train)\n",
    "results_S['KNN'] = knn_grid_search\n",
    "\n",
    "\n",
    "\n",
    "\n",
    "svc_grid_search.fit(X_train, y_train)\n",
    "results_S['SVM'] = svc_grid_search\n"
   ]
  },
  {
   "cell_type": "code",
   "execution_count": 32,
   "metadata": {},
   "outputs": [
    {
     "name": "stdout",
     "output_type": "stream",
     "text": [
      "Results for Random Forest:\n",
      "Best Parameters: {'max_depth': None, 'n_estimators': 50}\n",
      "Best Cross-Validation Accuracy: 0.99375\n",
      "\n",
      "Classification Report:\n",
      "              precision    recall  f1-score   support\n",
      "\n",
      "           0       1.00      1.00      1.00        15\n",
      "           1       1.00      1.00      1.00         6\n",
      "           2       1.00      1.00      1.00         3\n",
      "           3       1.00      1.00      1.00         5\n",
      "           4       1.00      1.00      1.00        11\n",
      "\n",
      "    accuracy                           1.00        40\n",
      "   macro avg       1.00      1.00      1.00        40\n",
      "weighted avg       1.00      1.00      1.00        40\n",
      "\n",
      "--------------------------------------------------\n",
      "Results for KNN:\n",
      "Best Parameters: {'n_neighbors': 1, 'weights': 'uniform'}\n",
      "Best Cross-Validation Accuracy: 0.85\n",
      "\n",
      "Classification Report:\n",
      "              precision    recall  f1-score   support\n",
      "\n",
      "           0       0.94      1.00      0.97        15\n",
      "           1       1.00      0.83      0.91         6\n",
      "           2       0.75      1.00      0.86         3\n",
      "           3       1.00      1.00      1.00         5\n",
      "           4       1.00      0.91      0.95        11\n",
      "\n",
      "    accuracy                           0.95        40\n",
      "   macro avg       0.94      0.95      0.94        40\n",
      "weighted avg       0.96      0.95      0.95        40\n",
      "\n",
      "--------------------------------------------------\n",
      "Results for SVM:\n",
      "Best Parameters: {'C': 2, 'kernel': 'linear'}\n",
      "Best Cross-Validation Accuracy: 0.95625\n",
      "\n",
      "Classification Report:\n",
      "              precision    recall  f1-score   support\n",
      "\n",
      "           0       1.00      1.00      1.00        15\n",
      "           1       1.00      1.00      1.00         6\n",
      "           2       1.00      1.00      1.00         3\n",
      "           3       1.00      1.00      1.00         5\n",
      "           4       1.00      1.00      1.00        11\n",
      "\n",
      "    accuracy                           1.00        40\n",
      "   macro avg       1.00      1.00      1.00        40\n",
      "weighted avg       1.00      1.00      1.00        40\n",
      "\n",
      "--------------------------------------------------\n"
     ]
    }
   ],
   "source": [
    "for model_name, grid_search in results_S.items():\n",
    "    print(f\"Results for {model_name}:\")\n",
    "    print(\"Best Parameters:\", grid_search.best_params_)\n",
    "    print(\"Best Cross-Validation Accuracy:\", grid_search.best_score_)\n",
    "    \n",
    "    # Evaluate on test set\n",
    "    best_model = grid_search.best_estimator_\n",
    "    y_pred = best_model.predict(X_test)\n",
    "    print(\"\\nClassification Report:\")\n",
    "    print(classification_report(y_test, y_pred))\n",
    "    print(\"-\" * 50)"
   ]
  }
 ],
 "metadata": {
  "kernelspec": {
   "display_name": "Python (ganenv)",
   "language": "python",
   "name": "ganenv"
  },
  "language_info": {
   "codemirror_mode": {
    "name": "ipython",
    "version": 3
   },
   "file_extension": ".py",
   "mimetype": "text/x-python",
   "name": "python",
   "nbconvert_exporter": "python",
   "pygments_lexer": "ipython3",
   "version": "3.12.3"
  }
 },
 "nbformat": 4,
 "nbformat_minor": 2
}
